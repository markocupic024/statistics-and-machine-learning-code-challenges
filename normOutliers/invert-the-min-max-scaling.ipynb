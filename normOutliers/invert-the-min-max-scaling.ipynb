{
 "cells": [
  {
   "cell_type": "code",
   "execution_count": 2,
   "id": "942cc260-1f61-4aff-982e-1266dc73c135",
   "metadata": {},
   "outputs": [],
   "source": [
    "import numpy as np\n",
    "import matplotlib.pyplot as plt"
   ]
  },
  {
   "cell_type": "code",
   "execution_count": 22,
   "id": "a853b770-ecd6-4775-afd5-0b6f43bab1c5",
   "metadata": {},
   "outputs": [
    {
     "name": "stdout",
     "output_type": "stream",
     "text": [
      "-2.8607205297778333 -2.8607205297778333\n",
      "3.109477025140897 3.1094770251408965\n"
     ]
    }
   ],
   "source": [
    "N = 1000\n",
    "\n",
    "data = np.random.randn(N)\n",
    "\n",
    "data_unity = (data - data.min()) / (data.max() - data.min())\n",
    "\n",
    "new_min = 2\n",
    "\n",
    "new_max = 4\n",
    "\n",
    "data_minmax = new_min + data_unity * (new_max - new_min)\n",
    "\n",
    "data_minmax_inverted = ((data_minmax - new_min) / (new_max - new_min)) * (data.max() - data.min()) + data.min()\n",
    "\n",
    "print(data_minmax_inverted.min(), data.min())\n",
    "print(data_minmax_inverted.max(), data.max())"
   ]
  }
 ],
 "metadata": {
  "kernelspec": {
   "display_name": "Python 3 (ipykernel)",
   "language": "python",
   "name": "python3"
  },
  "language_info": {
   "codemirror_mode": {
    "name": "ipython",
    "version": 3
   },
   "file_extension": ".py",
   "mimetype": "text/x-python",
   "name": "python",
   "nbconvert_exporter": "python",
   "pygments_lexer": "ipython3",
   "version": "3.11.7"
  }
 },
 "nbformat": 4,
 "nbformat_minor": 5
}
